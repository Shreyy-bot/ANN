{
 "cells": [
  {
   "cell_type": "code",
   "execution_count": 98,
   "id": "37ed704b-d91b-4903-b16d-240e24c1080a",
   "metadata": {},
   "outputs": [],
   "source": [
    "import numpy as np\n",
    "import pandas as pd"
   ]
  },
  {
   "cell_type": "code",
   "execution_count": 99,
   "id": "ba4f1717-36df-481f-a857-5d7fbe4b9ea2",
   "metadata": {},
   "outputs": [],
   "source": [
    "from sklearn.model_selection import train_test_split\n",
    "from sklearn.preprocessing import OneHotEncoder"
   ]
  },
  {
   "cell_type": "code",
   "execution_count": 100,
   "id": "3bce5c36-5827-4365-9758-870a4ce01f3f",
   "metadata": {},
   "outputs": [],
   "source": [
    "class ANN:\n",
    "    def __init__(self, input_size, hidden_size_1, hidden_size_2, output_size, lr):\n",
    "        self.input_size = input_size\n",
    "        self.hidden_size_1 = hidden_size_1\n",
    "        self.hidden_size_2 = hidden_size_2\n",
    "        self.output_size = output_size\n",
    "        self.lr = lr\n",
    "\n",
    "        self.Wij = np.random.uniform(-0.5, 0.5, (self.input_size, self.hidden_size_1)) #between input and hidden 1 layer\n",
    "        self.Vjk = np.random.uniform(-0.5, 0.5, (self.hidden_size_1, self.hidden_size_2))#between hidden 1 and hidden 2 layer\n",
    "        self.Ukl = np.random.uniform(-0.5, 0.5, (self.hidden_size_2, self.output_size))#between hidden 2 and output layer\n",
    "\n",
    "        self.bias_j = np.random.uniform(-0.5, 0.5, (1,self.hidden_size_1)) # for hidden 1 layer\n",
    "        self.bias_k = np.random.uniform(-0.5, 0.5, (1,self.hidden_size_2)) # for hidden 2 layer\n",
    "        self.bias_l = np.random.uniform(-0.5, 0.5, (1,self.output_size)) # for output layer\n",
    "\n",
    "    def sigmoid(self, x):\n",
    "        return 1/(1+np.exp(-x))\n",
    "\n",
    "    def sigmoid_derivate(self, x):\n",
    "        return x*(1-x)\n",
    "\n",
    "    def forward_propagate(self, x):\n",
    "        self.hidden_1_input = np.dot(x, self.Wij)+self.bias_j\n",
    "        self.hidden_1_output = self.sigmoid(self.hidden_1_input)\n",
    "\n",
    "        self.hidden_2_input = np.dot(self.hidden_1_output, self.Vjk)+self.bias_k\n",
    "        self.hidden_2_output = self.sigmoid(self.hidden_2_input)\n",
    "\n",
    "        self.output_input = np.dot(self.hidden_2_output, self.Ukl)+self.bias_l\n",
    "        self.output_output = self.sigmoid(self.output_input)\n",
    "\n",
    "        return self.output_output\n",
    "\n",
    "    def back_propagate(self, x, y, out):\n",
    "        error = y-out\n",
    "        delta_out = error * self.sigmoid_derivate(out)\n",
    "\n",
    "        hidden_2_error = delta_out.dot(self.Ukl.T)\n",
    "        hidden_2_delta = hidden_2_error * self.sigmoid_derivate(self.hidden_2_output)\n",
    "\n",
    "        hidden_1_error = hidden_2_delta.dot(self.Vjk.T)\n",
    "        hidden_2_delta = hidden_1_error * self.sigmoid_derivate(self.hidden_1_output)\n",
    "\n",
    "        self.Ukl += self.hidden_2_output.T.dot(delta_out)*self.lr\n",
    "        self.bias_l += np.sum(delta_out)*self.lr\n",
    "\n",
    "        self.Vjk += self.hidden_1_output.T.dot(hidden_2_delta)*self.lr\n",
    "        self.bias_k += np.sum(hidden_2_delta)*self.lr\n",
    "\n",
    "        self.Wij += x.T.dot(hidden_2_delta)*self.lr\n",
    "        self.bias_j += np.sum(hidden_2_delta)*self.lr\n",
    "\n",
    "    def train(self, x, y, epochs):\n",
    "        for epoch in range(epochs):\n",
    "            out = self.forward_propagate(x)\n",
    "            self.back_propagate(x, y, out)\n",
    "            if epoch%1000 == 0:\n",
    "                print(f\"Epochs {epoch} Loss {np.mean(np.abs(y - out))}\")"
   ]
  },
  {
   "cell_type": "code",
   "execution_count": 101,
   "id": "9ed9861b-9548-427d-8918-0effcbb9363b",
   "metadata": {},
   "outputs": [
    {
     "data": {
      "text/html": [
       "<div>\n",
       "<style scoped>\n",
       "    .dataframe tbody tr th:only-of-type {\n",
       "        vertical-align: middle;\n",
       "    }\n",
       "\n",
       "    .dataframe tbody tr th {\n",
       "        vertical-align: top;\n",
       "    }\n",
       "\n",
       "    .dataframe thead th {\n",
       "        text-align: right;\n",
       "    }\n",
       "</style>\n",
       "<table border=\"1\" class=\"dataframe\">\n",
       "  <thead>\n",
       "    <tr style=\"text-align: right;\">\n",
       "      <th></th>\n",
       "      <th>Id</th>\n",
       "      <th>SepalLengthCm</th>\n",
       "      <th>SepalWidthCm</th>\n",
       "      <th>PetalLengthCm</th>\n",
       "      <th>PetalWidthCm</th>\n",
       "      <th>Species</th>\n",
       "    </tr>\n",
       "  </thead>\n",
       "  <tbody>\n",
       "    <tr>\n",
       "      <th>0</th>\n",
       "      <td>1</td>\n",
       "      <td>5.1</td>\n",
       "      <td>3.5</td>\n",
       "      <td>1.4</td>\n",
       "      <td>0.2</td>\n",
       "      <td>Iris-setosa</td>\n",
       "    </tr>\n",
       "    <tr>\n",
       "      <th>1</th>\n",
       "      <td>2</td>\n",
       "      <td>4.9</td>\n",
       "      <td>3.0</td>\n",
       "      <td>1.4</td>\n",
       "      <td>0.2</td>\n",
       "      <td>Iris-setosa</td>\n",
       "    </tr>\n",
       "    <tr>\n",
       "      <th>2</th>\n",
       "      <td>3</td>\n",
       "      <td>4.7</td>\n",
       "      <td>3.2</td>\n",
       "      <td>1.3</td>\n",
       "      <td>0.2</td>\n",
       "      <td>Iris-setosa</td>\n",
       "    </tr>\n",
       "    <tr>\n",
       "      <th>3</th>\n",
       "      <td>4</td>\n",
       "      <td>4.6</td>\n",
       "      <td>3.1</td>\n",
       "      <td>1.5</td>\n",
       "      <td>0.2</td>\n",
       "      <td>Iris-setosa</td>\n",
       "    </tr>\n",
       "    <tr>\n",
       "      <th>4</th>\n",
       "      <td>5</td>\n",
       "      <td>5.0</td>\n",
       "      <td>3.6</td>\n",
       "      <td>1.4</td>\n",
       "      <td>0.2</td>\n",
       "      <td>Iris-setosa</td>\n",
       "    </tr>\n",
       "  </tbody>\n",
       "</table>\n",
       "</div>"
      ],
      "text/plain": [
       "   Id  SepalLengthCm  SepalWidthCm  PetalLengthCm  PetalWidthCm      Species\n",
       "0   1            5.1           3.5            1.4           0.2  Iris-setosa\n",
       "1   2            4.9           3.0            1.4           0.2  Iris-setosa\n",
       "2   3            4.7           3.2            1.3           0.2  Iris-setosa\n",
       "3   4            4.6           3.1            1.5           0.2  Iris-setosa\n",
       "4   5            5.0           3.6            1.4           0.2  Iris-setosa"
      ]
     },
     "execution_count": 101,
     "metadata": {},
     "output_type": "execute_result"
    }
   ],
   "source": [
    "df = pd.read_csv(\"Iris.csv\")\n",
    "df.head()"
   ]
  },
  {
   "cell_type": "code",
   "execution_count": 102,
   "id": "1518e05d-73aa-4f2f-865a-6ea59d258d93",
   "metadata": {},
   "outputs": [
    {
     "data": {
      "text/plain": [
       "array(['Iris-setosa', 'Iris-versicolor', 'Iris-virginica'], dtype=object)"
      ]
     },
     "execution_count": 102,
     "metadata": {},
     "output_type": "execute_result"
    }
   ],
   "source": [
    "df[\"Species\"].unique()"
   ]
  },
  {
   "cell_type": "code",
   "execution_count": 103,
   "id": "72223a66-66c1-4de9-9229-62575b7ae502",
   "metadata": {},
   "outputs": [],
   "source": [
    "df[\"Species\"] = df[\"Species\"].replace({'Iris-setosa':0, 'Iris-versicolor':1, 'Iris-virginica':2})"
   ]
  },
  {
   "cell_type": "code",
   "execution_count": 104,
   "id": "938a0604-fad6-4307-a2bd-d3b9e732ff4d",
   "metadata": {},
   "outputs": [],
   "source": [
    "arr1 = np.array([df['SepalLengthCm'], df['SepalWidthCm'], df['PetalLengthCm'], df['PetalWidthCm']]).T\n",
    "arr2 = np.array([df['Species']]).T"
   ]
  },
  {
   "cell_type": "code",
   "execution_count": 105,
   "id": "f60ef698-8715-44e9-a87b-da5d61572aaa",
   "metadata": {},
   "outputs": [],
   "source": [
    "X_train, X_test, y_train, y_test = train_test_split(arr1, arr2, test_size=0.3, random_state=10)"
   ]
  },
  {
   "cell_type": "code",
   "execution_count": 106,
   "id": "c633e725-dc94-4289-a0b8-6b521d3d7caf",
   "metadata": {},
   "outputs": [],
   "source": [
    "encoder = OneHotEncoder()"
   ]
  },
  {
   "cell_type": "code",
   "execution_count": 107,
   "id": "3bca3634-18f6-4413-bd14-b1b8a408d938",
   "metadata": {},
   "outputs": [],
   "source": [
    "y_train_hot = encoder.fit_transform(y_train.reshape(-1, 1)).toarray()"
   ]
  },
  {
   "cell_type": "code",
   "execution_count": 108,
   "id": "380a8464-28f9-4848-983e-5651f73c202e",
   "metadata": {},
   "outputs": [
    {
     "name": "stdout",
     "output_type": "stream",
     "text": [
      "Epochs 0 Loss 0.6210261840612572\n",
      "Epochs 1000 Loss 0.3333461227475785\n",
      "Epochs 2000 Loss 0.33339639996520515\n",
      "Epochs 3000 Loss 0.04556870997925581\n",
      "Epochs 4000 Loss 0.03612998113976855\n",
      "Epochs 5000 Loss 0.03612105409931306\n",
      "Epochs 6000 Loss 0.025896131722761825\n",
      "Epochs 7000 Loss 0.049888706831308936\n",
      "Epochs 8000 Loss 0.025275932455723533\n",
      "Epochs 9000 Loss 0.024868793302730906\n"
     ]
    }
   ],
   "source": [
    "input_size = X_train.shape[1]\n",
    "hidden_1_size = 50\n",
    "hidden_2_size = 50\n",
    "output_size = y_train_hot.shape[1]\n",
    "lr = 0.1\n",
    "epochs = 10000\n",
    "\n",
    "obj_ANN = ANN(input_size, hidden_1_size, hidden_2_size, output_size, lr)\n",
    "obj_ANN.train(X_train, y_train_hot, epochs)"
   ]
  },
  {
   "cell_type": "code",
   "execution_count": 109,
   "id": "509d9adc-b920-4cb6-a110-cf099cd14c6a",
   "metadata": {},
   "outputs": [
    {
     "name": "stdout",
     "output_type": "stream",
     "text": [
      "SL|SW|PL|PW \t\t Predicted Class \t\t Actual Class\n",
      "[6.3 2.3 4.4 1.3]\t\t1\t\t[1]\n",
      "[6.4 2.7 5.3 1.9]\t\t2\t\t[2]\n",
      "[5.4 3.7 1.5 0.2]\t\t0\t\t[0]\n",
      "[6.1 3.  4.6 1.4]\t\t1\t\t[1]\n",
      "[5.  3.3 1.4 0.2]\t\t0\t\t[0]\n",
      "[5.  2.  3.5 1. ]\t\t1\t\t[1]\n",
      "[6.3 2.5 4.9 1.5]\t\t2\t\t[1]\n",
      "[5.8 2.7 4.1 1. ]\t\t1\t\t[1]\n",
      "[5.1 3.4 1.5 0.2]\t\t0\t\t[0]\n",
      "[5.7 2.8 4.5 1.3]\t\t1\t\t[1]\n",
      "[5.6 3.  4.5 1.5]\t\t1\t\t[1]\n",
      "[5.8 2.7 5.1 1.9]\t\t2\t\t[2]\n",
      "[5.5 2.3 4.  1.3]\t\t1\t\t[1]\n",
      "[4.9 3.  1.4 0.2]\t\t0\t\t[0]\n",
      "[5.1 3.8 1.5 0.3]\t\t0\t\t[0]\n",
      "[6.8 3.  5.5 2.1]\t\t2\t\t[2]\n",
      "[6.  3.4 4.5 1.6]\t\t1\t\t[1]\n",
      "[4.4 3.  1.3 0.2]\t\t0\t\t[0]\n",
      "[5.1 3.7 1.5 0.4]\t\t0\t\t[0]\n",
      "[5.  3.2 1.2 0.2]\t\t0\t\t[0]\n",
      "[7.1 3.  5.9 2.1]\t\t2\t\t[2]\n",
      "[6.4 2.8 5.6 2.2]\t\t2\t\t[2]\n",
      "[6.2 2.8 4.8 1.8]\t\t2\t\t[2]\n",
      "[4.8 3.4 1.9 0.2]\t\t0\t\t[0]\n",
      "[5.9 3.  4.2 1.5]\t\t1\t\t[1]\n",
      "[4.7 3.2 1.3 0.2]\t\t0\t\t[0]\n",
      "[5.7 3.  4.2 1.2]\t\t1\t\t[1]\n",
      "[5.5 2.6 4.4 1.2]\t\t1\t\t[1]\n",
      "[6.8 2.8 4.8 1.4]\t\t1\t\t[1]\n",
      "[7.7 3.8 6.7 2.2]\t\t2\t\t[2]\n",
      "[6.6 2.9 4.6 1.3]\t\t1\t\t[1]\n",
      "[6.2 2.9 4.3 1.3]\t\t1\t\t[1]\n",
      "[7.2 3.  5.8 1.6]\t\t2\t\t[2]\n",
      "[5.8 2.8 5.1 2.4]\t\t2\t\t[2]\n",
      "[6.3 2.5 5.  1.9]\t\t2\t\t[2]\n",
      "[4.6 3.2 1.4 0.2]\t\t0\t\t[0]\n",
      "[6.7 3.3 5.7 2.1]\t\t2\t\t[2]\n",
      "[6.9 3.2 5.7 2.3]\t\t2\t\t[2]\n",
      "[7.7 2.6 6.9 2.3]\t\t2\t\t[2]\n",
      "[6.9 3.1 5.1 2.3]\t\t2\t\t[2]\n",
      "[5.  3.4 1.6 0.4]\t\t0\t\t[0]\n",
      "[5.  3.5 1.6 0.6]\t\t0\t\t[0]\n",
      "[5.2 2.7 3.9 1.4]\t\t1\t\t[1]\n",
      "[4.5 2.3 1.3 0.3]\t\t0\t\t[0]\n",
      "[6.3 3.3 4.7 1.6]\t\t1\t\t[1]\n"
     ]
    }
   ],
   "source": [
    "print(\"SL|SW|PL|PW \\t\\t Predicted Class \\t\\t Actual Class\")\n",
    "for i in range(len(X_test)):\n",
    "    predict = obj_ANN.forward_propagate(X_test[i])\n",
    "    predicted_class = np.argmax(predict)\n",
    "    actual = y_test[i]\n",
    "    print(f\"{X_test[i]}\\t\\t{predicted_class}\\t\\t{actual}\")"
   ]
  },
  {
   "cell_type": "code",
   "execution_count": 110,
   "id": "9dc49dd6-07f6-4a15-be7b-d86f24e807f0",
   "metadata": {},
   "outputs": [
    {
     "name": "stdout",
     "output_type": "stream",
     "text": [
      "97.78%\n"
     ]
    }
   ],
   "source": [
    "count = 0\n",
    "total = len(X_test)\n",
    "for i in range(total):\n",
    "    predict = obj_ANN.forward_propagate(X_test[i])\n",
    "    predicted_class = np.argmax(predict)\n",
    "    actual = y_test[i]\n",
    "    if predicted_class == actual:\n",
    "        count+=1\n",
    "accuracy = (count/total)*100\n",
    "print(f\"{accuracy:.2f}%\")"
   ]
  },
  {
   "cell_type": "code",
   "execution_count": null,
   "id": "58384af7-eea5-4e33-9291-dac1a34ab234",
   "metadata": {},
   "outputs": [],
   "source": []
  },
  {
   "cell_type": "code",
   "execution_count": null,
   "id": "173cec02-f264-4305-8629-04a36c6f8498",
   "metadata": {},
   "outputs": [],
   "source": []
  },
  {
   "cell_type": "code",
   "execution_count": null,
   "id": "723423e4-5d92-4c7e-820a-807a74a5ee34",
   "metadata": {},
   "outputs": [],
   "source": []
  },
  {
   "cell_type": "code",
   "execution_count": null,
   "id": "7d590c90-092d-4004-ad65-50dc16925275",
   "metadata": {},
   "outputs": [],
   "source": []
  }
 ],
 "metadata": {
  "kernelspec": {
   "display_name": "Python 3 (ipykernel)",
   "language": "python",
   "name": "python3"
  },
  "language_info": {
   "codemirror_mode": {
    "name": "ipython",
    "version": 3
   },
   "file_extension": ".py",
   "mimetype": "text/x-python",
   "name": "python",
   "nbconvert_exporter": "python",
   "pygments_lexer": "ipython3",
   "version": "3.10.13"
  }
 },
 "nbformat": 4,
 "nbformat_minor": 5
}
