{
 "cells": [
  {
   "cell_type": "code",
   "execution_count": 73,
   "id": "6e4701b9-32cf-4f24-9f32-9510fe68784c",
   "metadata": {},
   "outputs": [],
   "source": [
    "import numpy as np"
   ]
  },
  {
   "cell_type": "code",
   "execution_count": 74,
   "id": "4bbd3771-81c6-45ee-9e27-d635bc2877ff",
   "metadata": {},
   "outputs": [],
   "source": [
    "x = [0, 0, 1, 1]\n",
    "y = [0 ,1, 0, 1]\n",
    "weights = [-1, 1, -1, 1]\n",
    "t = 0.8"
   ]
  },
  {
   "cell_type": "code",
   "execution_count": 75,
   "id": "bac53879-3844-4f61-980f-db9b38be8e07",
   "metadata": {},
   "outputs": [],
   "source": [
    "def sigmoid(x):\n",
    "    f = 1/(1+np.exp(-x))\n",
    "    return f"
   ]
  },
  {
   "cell_type": "code",
   "execution_count": 76,
   "id": "101f70ec-888e-46d9-a309-74e93e43f7bd",
   "metadata": {},
   "outputs": [],
   "source": [
    "def gate(num):\n",
    "    if (num==1):\n",
    "        return 0\n",
    "    else:\n",
    "        return 1"
   ]
  },
  {
   "cell_type": "code",
   "execution_count": 92,
   "id": "2b9c91c0-b1d0-49d3-b406-8f0aa37fc1f2",
   "metadata": {},
   "outputs": [
    {
     "name": "stdout",
     "output_type": "stream",
     "text": [
      "X\tY\tAND\tANDNOT\n",
      "------------------------------\n",
      "0\t0\t 0\t  1\n",
      "0\t1\t 0\t  1\n",
      "1\t0\t 0\t  1\n",
      "1\t1\t 1\t  0\n"
     ]
    }
   ],
   "source": [
    "n = max(len(x), len(y))\n",
    "print(\"X\\tY\\tAND\\tANDNOT\")\n",
    "print(\"------------------------------\")\n",
    "for i in range(0, n):\n",
    "    sum = x[i]*weights[i] + y[i]*weights[i]\n",
    "    act = sigmoid(sum)\n",
    "    if act >= t:\n",
    "        res = 1\n",
    "    else:\n",
    "        res = 0\n",
    "    print(f\"{x[i]}\\t{y[i]}\\t {res}\\t  {gate(res)}\") "
   ]
  },
  {
   "cell_type": "code",
   "execution_count": null,
   "id": "dc7a0672-e4fe-491e-a9e1-e6b699707843",
   "metadata": {},
   "outputs": [],
   "source": []
  }
 ],
 "metadata": {
  "kernelspec": {
   "display_name": "Python 3 (ipykernel)",
   "language": "python",
   "name": "python3"
  },
  "language_info": {
   "codemirror_mode": {
    "name": "ipython",
    "version": 3
   },
   "file_extension": ".py",
   "mimetype": "text/x-python",
   "name": "python",
   "nbconvert_exporter": "python",
   "pygments_lexer": "ipython3",
   "version": "3.10.13"
  }
 },
 "nbformat": 4,
 "nbformat_minor": 5
}
