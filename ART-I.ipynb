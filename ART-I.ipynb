{
 "cells": [
  {
   "cell_type": "code",
   "execution_count": 41,
   "id": "6f700761-56c4-4466-884d-c872c759f982",
   "metadata": {},
   "outputs": [],
   "source": [
    "import numpy as np"
   ]
  },
  {
   "cell_type": "code",
   "execution_count": 42,
   "id": "290fd6e5-3870-41cd-b5f9-bdeae8f24319",
   "metadata": {},
   "outputs": [],
   "source": [
    "def train(inputs, bottom_up_weights, top_down_weights, rho, lr, n):\n",
    "    print(\"bottom up weights: \", bottom_up_weights)\n",
    "    print(\"top down weights: \", top_down_weights)\n",
    "\n",
    "    for s in inputs:\n",
    "        print(\"Input pattern: \", s)\n",
    "        norm_s = np.sum(s)\n",
    "        print(\"||s|| : \", norm_s)\n",
    "\n",
    "        y = np.dot(s, bottom_up_weights)\n",
    "        print(\"Output of network(y) = bij*xi = \", y)\n",
    "\n",
    "        J=winner(y)\n",
    "        print(\"Winner neuron: \", J)\n",
    "\n",
    "        xi = s * top_down_weights[J]\n",
    "        print(\"Input weights for adjustment: \", xi)\n",
    "        \n",
    "        norm_x = np.sum(xi)\n",
    "        print(\"Norm of Weight: \", norm_x)\n",
    "        \n",
    "        test_rest = norm_x / norm_s\n",
    "        print(\"Ratio: \", test_rest)\n",
    "        print(\"Threshold(rho): \", rho)\n",
    "\n",
    "        if test_rest>=rho:\n",
    "            print(\"Reset triggred.\")\n",
    "            for i in range(n):\n",
    "                bottom_up_weights[i][J] = lr*xi[i]/(lr-1+norm_x)\n",
    "                top_down_weights[J][i] = xi[i]\n",
    "            print(\"Updated bottom_up_weights: \", bottom_up_weights)\n",
    "            print(\"Updated top_down_weights: \", top_down_weights)\n",
    "\n",
    "        else:\n",
    "            print(\"Reset not triggred.\")"
   ]
  },
  {
   "cell_type": "code",
   "execution_count": 43,
   "id": "2f06ce91-d139-4799-acfd-fb301c48daa8",
   "metadata": {},
   "outputs": [],
   "source": [
    "def winner(y):\n",
    "    return np.argmax(y)"
   ]
  },
  {
   "cell_type": "code",
   "execution_count": 44,
   "id": "d115a08d-c603-4019-ae84-95dbf182aa18",
   "metadata": {},
   "outputs": [],
   "source": [
    "inputs = np.array([[0,0,0,1], [0,1,0,1], [0,0,1,1], [1,0,0,0]])\n",
    "lr = 2\n",
    "rho = 0.4\n",
    "n=4\n",
    "m=3"
   ]
  },
  {
   "cell_type": "code",
   "execution_count": 45,
   "id": "7d0eb408-099d-40eb-b197-b83347f18629",
   "metadata": {},
   "outputs": [],
   "source": [
    "initial_bottom_up_weights = 1/(1+n)\n",
    "bottom_up_weights = np.full((n, m), initial_bottom_up_weights)\n",
    "top_down_weights = np.full((m,n ), 1)"
   ]
  },
  {
   "cell_type": "code",
   "execution_count": 46,
   "id": "e2ed0a32-7f8b-4275-8985-69fe3b38a18f",
   "metadata": {},
   "outputs": [
    {
     "name": "stdout",
     "output_type": "stream",
     "text": [
      "bottom up weights:  [[0.2 0.2 0.2]\n",
      " [0.2 0.2 0.2]\n",
      " [0.2 0.2 0.2]\n",
      " [0.2 0.2 0.2]]\n",
      "top down weights:  [[1 1 1 1]\n",
      " [1 1 1 1]\n",
      " [1 1 1 1]]\n",
      "Input pattern:  [0 0 0 1]\n",
      "||s|| :  1\n",
      "Output of network(y) = bij*xi =  [0.2 0.2 0.2]\n",
      "Winner neuron:  0\n",
      "Input weights for adjustment:  [0 0 0 1]\n",
      "Norm of Weight:  1\n",
      "Ratio:  1.0\n",
      "Threshold(rho):  0.4\n",
      "Reset triggred.\n",
      "Updated bottom_up_weights:  [[0.  0.2 0.2]\n",
      " [0.  0.2 0.2]\n",
      " [0.  0.2 0.2]\n",
      " [1.  0.2 0.2]]\n",
      "Updated top_down_weights:  [[0 0 0 1]\n",
      " [1 1 1 1]\n",
      " [1 1 1 1]]\n",
      "Input pattern:  [0 1 0 1]\n",
      "||s|| :  2\n",
      "Output of network(y) = bij*xi =  [1.  0.4 0.4]\n",
      "Winner neuron:  0\n",
      "Input weights for adjustment:  [0 0 0 1]\n",
      "Norm of Weight:  1\n",
      "Ratio:  0.5\n",
      "Threshold(rho):  0.4\n",
      "Reset triggred.\n",
      "Updated bottom_up_weights:  [[0.  0.2 0.2]\n",
      " [0.  0.2 0.2]\n",
      " [0.  0.2 0.2]\n",
      " [1.  0.2 0.2]]\n",
      "Updated top_down_weights:  [[0 0 0 1]\n",
      " [1 1 1 1]\n",
      " [1 1 1 1]]\n",
      "Input pattern:  [0 0 1 1]\n",
      "||s|| :  2\n",
      "Output of network(y) = bij*xi =  [1.  0.4 0.4]\n",
      "Winner neuron:  0\n",
      "Input weights for adjustment:  [0 0 0 1]\n",
      "Norm of Weight:  1\n",
      "Ratio:  0.5\n",
      "Threshold(rho):  0.4\n",
      "Reset triggred.\n",
      "Updated bottom_up_weights:  [[0.  0.2 0.2]\n",
      " [0.  0.2 0.2]\n",
      " [0.  0.2 0.2]\n",
      " [1.  0.2 0.2]]\n",
      "Updated top_down_weights:  [[0 0 0 1]\n",
      " [1 1 1 1]\n",
      " [1 1 1 1]]\n",
      "Input pattern:  [1 0 0 0]\n",
      "||s|| :  1\n",
      "Output of network(y) = bij*xi =  [0.  0.2 0.2]\n",
      "Winner neuron:  1\n",
      "Input weights for adjustment:  [1 0 0 0]\n",
      "Norm of Weight:  1\n",
      "Ratio:  1.0\n",
      "Threshold(rho):  0.4\n",
      "Reset triggred.\n",
      "Updated bottom_up_weights:  [[0.  1.  0.2]\n",
      " [0.  0.  0.2]\n",
      " [0.  0.  0.2]\n",
      " [1.  0.  0.2]]\n",
      "Updated top_down_weights:  [[0 0 0 1]\n",
      " [1 0 0 0]\n",
      " [1 1 1 1]]\n"
     ]
    }
   ],
   "source": [
    "train(inputs, bottom_up_weights, top_down_weights, rho, lr, n)"
   ]
  },
  {
   "cell_type": "code",
   "execution_count": null,
   "id": "ea4957ed-94ea-4e51-8dbc-c21fa3f99c7d",
   "metadata": {},
   "outputs": [],
   "source": []
  }
 ],
 "metadata": {
  "kernelspec": {
   "display_name": "Python 3 (ipykernel)",
   "language": "python",
   "name": "python3"
  },
  "language_info": {
   "codemirror_mode": {
    "name": "ipython",
    "version": 3
   },
   "file_extension": ".py",
   "mimetype": "text/x-python",
   "name": "python",
   "nbconvert_exporter": "python",
   "pygments_lexer": "ipython3",
   "version": "3.10.13"
  }
 },
 "nbformat": 4,
 "nbformat_minor": 5
}
