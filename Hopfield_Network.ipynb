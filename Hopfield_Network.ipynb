{
 "cells": [
  {
   "cell_type": "code",
   "execution_count": 1,
   "id": "0b931020-a0a6-49f2-8681-f3235e01e601",
   "metadata": {},
   "outputs": [],
   "source": [
    "import numpy as np"
   ]
  },
  {
   "cell_type": "code",
   "execution_count": 2,
   "id": "20a709f2-afa0-4d18-be24-e68dc6d6ca0e",
   "metadata": {},
   "outputs": [],
   "source": [
    "class Hopfield:\n",
    "    def __init__(self, num_neurons):\n",
    "        self.num_neurons = num_neurons\n",
    "        self.weights = np.zeros((num_neurons, num_neurons))\n",
    "    \n",
    "    def sigmoid(self, x):\n",
    "        return (1-np.exp(-x))/(1+np.exp(-x))\n",
    "\n",
    "    def train(self, vectors):\n",
    "        for vector in vectors:\n",
    "            vector = np.reshape(vector, (self.num_neurons, 1))\n",
    "            self.weights += np.dot(vector, vector.T)\n",
    "        print(\"Weights: \\n\", self.weights)\n",
    "\n",
    "    def recall(self, input_vector):\n",
    "        output = np.dot(input_vector, self.weights)\n",
    "        output = self.sigmoid(output)\n",
    "        output = np.sign(output)\n",
    "        return output"
   ]
  },
  {
   "cell_type": "code",
   "execution_count": 3,
   "id": "e9782891-64f4-4cc7-8abb-0d1824e927c5",
   "metadata": {},
   "outputs": [],
   "source": [
    "network = Hopfield(8)"
   ]
  },
  {
   "cell_type": "code",
   "execution_count": 5,
   "id": "38d4a62b-84d6-43f2-afc4-08e6f8d6b516",
   "metadata": {},
   "outputs": [
    {
     "name": "stdout",
     "output_type": "stream",
     "text": [
      "Weights: \n",
      " [[ 8.  0.  8.  0.  0.  0. -8.  0.]\n",
      " [ 0.  8.  0.  8. -8. -8.  0. -8.]\n",
      " [ 8.  0.  8.  0.  0.  0. -8.  0.]\n",
      " [ 0.  8.  0.  8. -8. -8.  0. -8.]\n",
      " [ 0. -8.  0. -8.  8.  8.  0.  8.]\n",
      " [ 0. -8.  0. -8.  8.  8.  0.  8.]\n",
      " [-8.  0. -8.  0.  0.  0.  8.  0.]\n",
      " [ 0. -8.  0. -8.  8.  8.  0.  8.]]\n",
      "\n",
      "Input:  [-1 -1 -1 -1  1  0  1  0]\n",
      "Output:  [-1. -1. -1. -1.  1.  1.  1.  1.]\n",
      "\n",
      "Input:  [ 0  1  1  1 -1 -1 -1 -1]\n",
      "Output:  [ 1.  1.  1.  1. -1. -1. -1. -1.]\n",
      "\n",
      "Input:  [ 1 -1  0 -1  1  1 -1  1]\n",
      "Output:  [ 1. -1.  1. -1.  1.  1. -1.  1.]\n",
      "\n",
      "Input:  [ 0  1 -1  1 -1  0  1 -1]\n",
      "Output:  [-1.  1. -1.  1. -1. -1.  1. -1.]\n"
     ]
    }
   ],
   "source": [
    "vectors = np.array([[-1,-1,-1,-1,1,1,1,1],\n",
    "                   [1,1,1,1,-1,-1,-1,-1],\n",
    "                   [1,-1,1,-1,1,1,-1,1],\n",
    "                   [-1,1,-1,1,-1,-1,1,-1]])\n",
    "network.train(vectors)\n",
    "\n",
    "vector = np.array([[-1,-1,-1,-1,1,0,1,0],\n",
    "                    [0,1,1,1,-1,-1,-1,-1],\n",
    "                    [1,-1,0,-1,1,1,-1,1],\n",
    "                    [0,1,-1,1,-1,0,1,-1]])\n",
    "for vect in vector:\n",
    "    output = network.recall(vect)\n",
    "    print(\"\\nInput: \", vect)\n",
    "    print(\"Output: \", output)"
   ]
  },
  {
   "cell_type": "code",
   "execution_count": null,
   "id": "e4447fb1-3854-4f9f-b308-f80fa88c60d0",
   "metadata": {},
   "outputs": [],
   "source": []
  },
  {
   "cell_type": "code",
   "execution_count": null,
   "id": "77ae3ac9-47f2-4a4f-a713-c56398e446b1",
   "metadata": {},
   "outputs": [],
   "source": []
  },
  {
   "cell_type": "code",
   "execution_count": null,
   "id": "90abb894-e64e-4cb1-9c9e-ed60a641499b",
   "metadata": {},
   "outputs": [],
   "source": []
  },
  {
   "cell_type": "code",
   "execution_count": null,
   "id": "9c497e52-a9dd-4888-ae5b-3b5914d2363a",
   "metadata": {},
   "outputs": [],
   "source": []
  },
  {
   "cell_type": "code",
   "execution_count": 11,
   "id": "77fefbed-402d-47a5-af29-704f8f3e9a47",
   "metadata": {},
   "outputs": [],
   "source": [
    "class Hopfield:\n",
    "    def __init__(self, num_neurons):\n",
    "        self.num_neurons = num_neurons\n",
    "        self.weights = np.zeros((num_neurons, num_neurons))\n",
    "\n",
    "    def sigmoid(self, x):\n",
    "        return (1-np.exp(-x))/(1+np.exp(-x))\n",
    "\n",
    "    def train(self, vectors):\n",
    "        num_vectors = len(vectors)\n",
    "        for vector in vectors:\n",
    "            vector = np.reshape(vector, (self.num_neurons, 1))\n",
    "            self.weights += np.dot(vector, vector.T)\n",
    "        print(\"Weights: \\n\", self.weights)\n",
    "\n",
    "    def recall(self, input_vector):\n",
    "        output = np.dot(input_vector, self.weights)\n",
    "        output = self.sigmoid(output)\n",
    "        output = np.sign(output)\n",
    "        return output"
   ]
  },
  {
   "cell_type": "code",
   "execution_count": 12,
   "id": "c2cd849b-dc3e-473d-842b-c1be5527670a",
   "metadata": {},
   "outputs": [
    {
     "name": "stdout",
     "output_type": "stream",
     "text": [
      "Weights: \n",
      " [[ 4.  0.  4.  0.  0.  0. -4.  0.]\n",
      " [ 0.  4.  0.  4. -4. -4.  0. -4.]\n",
      " [ 4.  0.  4.  0.  0.  0. -4.  0.]\n",
      " [ 0.  4.  0.  4. -4. -4.  0. -4.]\n",
      " [ 0. -4.  0. -4.  4.  4.  0.  4.]\n",
      " [ 0. -4.  0. -4.  4.  4.  0.  4.]\n",
      " [-4.  0. -4.  0.  0.  0.  4.  0.]\n",
      " [ 0. -4.  0. -4.  4.  4.  0.  4.]]\n",
      "\n",
      "Input:  [-1 -1 -1 -1  1  0  1  0]\n",
      "\n",
      "Output:  [-1. -1. -1. -1.  1.  1.  1.  1.]\n",
      "\n",
      "Input:  [ 0  1  1  1 -1 -1 -1 -1]\n",
      "\n",
      "Output:  [ 1.  1.  1.  1. -1. -1. -1. -1.]\n",
      "\n",
      "Input:  [ 1 -1  0 -1  1  1 -1  1]\n",
      "\n",
      "Output:  [ 1. -1.  1. -1.  1.  1. -1.  1.]\n",
      "\n",
      "Input:  [ 0  1 -1  1 -1  0  1 -1]\n",
      "\n",
      "Output:  [-1.  1. -1.  1. -1. -1.  1. -1.]\n"
     ]
    }
   ],
   "source": [
    "network = Hopfield(8)\n",
    "\n",
    "vectors = np.array([[-1,-1,-1,-1,1,1,1,1],\n",
    "                   [1,1,1,1,-1,-1,-1,-1],\n",
    "                   [1,-1,1,-1,1,1,-1,1],\n",
    "                   [-1,1,-1,1,-1,-1,1,-1]])\n",
    "\n",
    "network.train(vectors)\n",
    "\n",
    "vector = np.array([[-1,-1,-1,-1,1,0,1,0],\n",
    "                    [0,1,1,1,-1,-1,-1,-1],\n",
    "                    [1,-1,0,-1,1,1,-1,1],\n",
    "                    [0,1,-1,1,-1,0,1,-1]])\n",
    "\n",
    "for vect in vector:\n",
    "    output = network.recall(vect)\n",
    "    print(\"\\nInput: \", vect)\n",
    "    print(\"\\nOutput: \", output)"
   ]
  },
  {
   "cell_type": "code",
   "execution_count": null,
   "id": "aad53945-1c7b-47c0-b1cc-0621fc4f7c98",
   "metadata": {},
   "outputs": [],
   "source": []
  }
 ],
 "metadata": {
  "kernelspec": {
   "display_name": "Python 3 (ipykernel)",
   "language": "python",
   "name": "python3"
  },
  "language_info": {
   "codemirror_mode": {
    "name": "ipython",
    "version": 3
   },
   "file_extension": ".py",
   "mimetype": "text/x-python",
   "name": "python",
   "nbconvert_exporter": "python",
   "pygments_lexer": "ipython3",
   "version": "3.10.13"
  }
 },
 "nbformat": 4,
 "nbformat_minor": 5
}
