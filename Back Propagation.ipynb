{
 "cells": [
  {
   "cell_type": "code",
   "execution_count": 68,
   "id": "5614bdde-c4ab-4352-b44b-4e39354902ac",
   "metadata": {},
   "outputs": [],
   "source": [
    "import pandas as pd\n",
    "import numpy as np\n",
    "from sklearn.model_selection import train_test_split\n",
    "from sklearn.preprocessing import OneHotEncoder"
   ]
  },
  {
   "cell_type": "code",
   "execution_count": 87,
   "id": "9c81514b-8bb1-4d0d-9bdc-031c1fe2abbe",
   "metadata": {},
   "outputs": [],
   "source": [
    "class ANN:\n",
    "    def __init__(self, input_size, hidden_size, output_size, lr):\n",
    "        self.input_size = input_size\n",
    "        self.hidden_size = hidden_size\n",
    "        self.output_size = output_size\n",
    "        self.lr = lr\n",
    "\n",
    "        #initialize the weights\n",
    "        self.Wij = np.random.uniform(-0.5, 0.5, (self.input_size, self.hidden_size))\n",
    "        self.Vjk = np.random.uniform(-0.5, 0.5, (self.hidden_size, self.output_size))\n",
    "\n",
    "        #initialize the bias\n",
    "        self.bias_j = np.random.uniform(-0.5, 0.5, (1, self.hidden_size))\n",
    "        self.bias_k = np.random.uniform(-0.5, 0.5, (1, self.output_size))\n",
    "\n",
    "    def sigmoid(self, x):\n",
    "        return 1/(1+np.exp(-x))\n",
    "    def sigmoid_derivate(self, x):\n",
    "        return x*(1-x)\n",
    "\n",
    "    def forward_propagate(self,x):\n",
    "        self.hidden_input = np.dot(x, self.Wij) + self.bias_j\n",
    "        self.hidden_output = self.sigmoid(self.hidden_input)\n",
    "\n",
    "        self.out_input = np.dot(self.hidden_output, self.Vjk) + self.bias_k\n",
    "        self.out_output = self.sigmoid(self.out_input)\n",
    "\n",
    "        return self.out_output\n",
    "\n",
    "    def back_propagate(self, x, y, output):\n",
    "        error = y - output\n",
    "        delta_out = error * self.sigmoid_derivate(output)\n",
    "\n",
    "        hidden_error = delta_out.dot(self.Vjk.T)\n",
    "        hidden_delta = hidden_error * self.sigmoid_derivate(self.hidden_output)\n",
    "\n",
    "        self.Vjk += self.hidden_output.T.dot(delta_out)*self.lr\n",
    "        self.bias_k += np.sum(delta_out)*self.lr\n",
    "\n",
    "        self.Wij += x.T.dot(hidden_delta)*self.lr\n",
    "        self.bias_j += np.sum(hidden_delta)*self.lr\n",
    "\n",
    "    def train(self, x, y, epochs):\n",
    "        for epoch in range(epochs):\n",
    "            out = self.forward_propagate(x)\n",
    "            self.back_propagate(x, y, out)\n",
    "            if epoch%1000 == 0:\n",
    "                print(f\"Epochs {epoch}: Error {np.mean(np.abs(y-out))}\")"
   ]
  },
  {
   "cell_type": "code",
   "execution_count": 88,
   "id": "c533d24e-9276-4d35-8d55-6c24a04b2ddd",
   "metadata": {},
   "outputs": [
    {
     "data": {
      "text/html": [
       "<div>\n",
       "<style scoped>\n",
       "    .dataframe tbody tr th:only-of-type {\n",
       "        vertical-align: middle;\n",
       "    }\n",
       "\n",
       "    .dataframe tbody tr th {\n",
       "        vertical-align: top;\n",
       "    }\n",
       "\n",
       "    .dataframe thead th {\n",
       "        text-align: right;\n",
       "    }\n",
       "</style>\n",
       "<table border=\"1\" class=\"dataframe\">\n",
       "  <thead>\n",
       "    <tr style=\"text-align: right;\">\n",
       "      <th></th>\n",
       "      <th>Id</th>\n",
       "      <th>SepalLengthCm</th>\n",
       "      <th>SepalWidthCm</th>\n",
       "      <th>PetalLengthCm</th>\n",
       "      <th>PetalWidthCm</th>\n",
       "      <th>Species</th>\n",
       "    </tr>\n",
       "  </thead>\n",
       "  <tbody>\n",
       "    <tr>\n",
       "      <th>0</th>\n",
       "      <td>1</td>\n",
       "      <td>5.1</td>\n",
       "      <td>3.5</td>\n",
       "      <td>1.4</td>\n",
       "      <td>0.2</td>\n",
       "      <td>Iris-setosa</td>\n",
       "    </tr>\n",
       "    <tr>\n",
       "      <th>1</th>\n",
       "      <td>2</td>\n",
       "      <td>4.9</td>\n",
       "      <td>3.0</td>\n",
       "      <td>1.4</td>\n",
       "      <td>0.2</td>\n",
       "      <td>Iris-setosa</td>\n",
       "    </tr>\n",
       "    <tr>\n",
       "      <th>2</th>\n",
       "      <td>3</td>\n",
       "      <td>4.7</td>\n",
       "      <td>3.2</td>\n",
       "      <td>1.3</td>\n",
       "      <td>0.2</td>\n",
       "      <td>Iris-setosa</td>\n",
       "    </tr>\n",
       "    <tr>\n",
       "      <th>3</th>\n",
       "      <td>4</td>\n",
       "      <td>4.6</td>\n",
       "      <td>3.1</td>\n",
       "      <td>1.5</td>\n",
       "      <td>0.2</td>\n",
       "      <td>Iris-setosa</td>\n",
       "    </tr>\n",
       "    <tr>\n",
       "      <th>4</th>\n",
       "      <td>5</td>\n",
       "      <td>5.0</td>\n",
       "      <td>3.6</td>\n",
       "      <td>1.4</td>\n",
       "      <td>0.2</td>\n",
       "      <td>Iris-setosa</td>\n",
       "    </tr>\n",
       "  </tbody>\n",
       "</table>\n",
       "</div>"
      ],
      "text/plain": [
       "   Id  SepalLengthCm  SepalWidthCm  PetalLengthCm  PetalWidthCm      Species\n",
       "0   1            5.1           3.5            1.4           0.2  Iris-setosa\n",
       "1   2            4.9           3.0            1.4           0.2  Iris-setosa\n",
       "2   3            4.7           3.2            1.3           0.2  Iris-setosa\n",
       "3   4            4.6           3.1            1.5           0.2  Iris-setosa\n",
       "4   5            5.0           3.6            1.4           0.2  Iris-setosa"
      ]
     },
     "execution_count": 88,
     "metadata": {},
     "output_type": "execute_result"
    }
   ],
   "source": [
    "df = pd.read_csv(\"Iris.csv\")\n",
    "df.head()"
   ]
  },
  {
   "cell_type": "code",
   "execution_count": 89,
   "id": "bf62fd47-d5e0-44bb-9467-12fc0dbe7574",
   "metadata": {},
   "outputs": [
    {
     "data": {
      "text/plain": [
       "array(['Iris-setosa', 'Iris-versicolor', 'Iris-virginica'], dtype=object)"
      ]
     },
     "execution_count": 89,
     "metadata": {},
     "output_type": "execute_result"
    }
   ],
   "source": [
    "df['Species'].unique()"
   ]
  },
  {
   "cell_type": "code",
   "execution_count": 90,
   "id": "c99314fb-bd26-4352-b789-8e8359ec4205",
   "metadata": {},
   "outputs": [],
   "source": [
    "df['Species'] = df['Species'].replace({'Iris-setosa':0, 'Iris-versicolor':1, 'Iris-virginica':2})"
   ]
  },
  {
   "cell_type": "code",
   "execution_count": 91,
   "id": "225cd91c-4c1f-408d-95a8-7a3b95b221e2",
   "metadata": {},
   "outputs": [],
   "source": [
    "arr1 = np.array([df[\"SepalLengthCm\"], df[\"SepalWidthCm\"], df[\"PetalLengthCm\"], df[\"PetalWidthCm\"]]).T\n",
    "arr2 = np.array([df[\"Species\"]]).T"
   ]
  },
  {
   "cell_type": "code",
   "execution_count": 92,
   "id": "2f470616-6265-4da5-be33-4ac82c7aeeb9",
   "metadata": {},
   "outputs": [],
   "source": [
    "x_train, x_test, y_train, y_test = train_test_split(arr1, arr2, test_size=0.3, random_state=10)"
   ]
  },
  {
   "cell_type": "code",
   "execution_count": 93,
   "id": "f350d724-2ce9-429c-9e0f-275a0a21edc4",
   "metadata": {},
   "outputs": [],
   "source": [
    "encoder = OneHotEncoder(categories='auto')\n",
    "y_train_hot = encoder.fit_transform(y_train.reshape(-1, 1)).toarray()"
   ]
  },
  {
   "cell_type": "code",
   "execution_count": 94,
   "id": "4f4804a7-4c95-47fd-9258-3176ae930de1",
   "metadata": {},
   "outputs": [
    {
     "name": "stdout",
     "output_type": "stream",
     "text": [
      "Epochs 0: Error 0.4973697240116815\n",
      "Epochs 1000: Error 0.0532675407117733\n",
      "Epochs 2000: Error 0.03092673023766424\n",
      "Epochs 3000: Error 0.026969290227828173\n",
      "Epochs 4000: Error 0.02323732204099778\n",
      "Epochs 5000: Error 0.020913765732350896\n",
      "Epochs 6000: Error 0.020190425531805174\n",
      "Epochs 7000: Error 0.014413233377538399\n",
      "Epochs 8000: Error 0.01378177247813307\n",
      "Epochs 9000: Error 0.01358078696218849\n"
     ]
    }
   ],
   "source": [
    "input_size = x_train.shape[1]\n",
    "hidden_size = 8\n",
    "output_size = y_train_hot.shape[1]\n",
    "epochs = 10000\n",
    "lr = 0.1\n",
    "\n",
    "obj_ANN = ANN(input_size, hidden_size, output_size, lr)\n",
    "obj_ANN.train(x_train, y_train_hot, epochs)"
   ]
  },
  {
   "cell_type": "code",
   "execution_count": 95,
   "id": "214b1d91-cb5c-4e1e-bc55-3b53cd5c74e3",
   "metadata": {},
   "outputs": [
    {
     "name": "stdout",
     "output_type": "stream",
     "text": [
      "[6.3 2.3 4.4 1.3]\t1\t[1]\n",
      "[6.4 2.7 5.3 1.9]\t2\t[2]\n",
      "[5.4 3.7 1.5 0.2]\t0\t[0]\n",
      "[6.1 3.  4.6 1.4]\t1\t[1]\n",
      "[5.  3.3 1.4 0.2]\t0\t[0]\n",
      "[5.  2.  3.5 1. ]\t1\t[1]\n",
      "[6.3 2.5 4.9 1.5]\t2\t[1]\n",
      "[5.8 2.7 4.1 1. ]\t1\t[1]\n",
      "[5.1 3.4 1.5 0.2]\t0\t[0]\n",
      "[5.7 2.8 4.5 1.3]\t1\t[1]\n",
      "[5.6 3.  4.5 1.5]\t1\t[1]\n",
      "[5.8 2.7 5.1 1.9]\t2\t[2]\n",
      "[5.5 2.3 4.  1.3]\t1\t[1]\n",
      "[4.9 3.  1.4 0.2]\t0\t[0]\n",
      "[5.1 3.8 1.5 0.3]\t0\t[0]\n",
      "[6.8 3.  5.5 2.1]\t2\t[2]\n",
      "[6.  3.4 4.5 1.6]\t1\t[1]\n",
      "[4.4 3.  1.3 0.2]\t0\t[0]\n",
      "[5.1 3.7 1.5 0.4]\t0\t[0]\n",
      "[5.  3.2 1.2 0.2]\t0\t[0]\n",
      "[7.1 3.  5.9 2.1]\t2\t[2]\n",
      "[6.4 2.8 5.6 2.2]\t2\t[2]\n",
      "[6.2 2.8 4.8 1.8]\t2\t[2]\n",
      "[4.8 3.4 1.9 0.2]\t0\t[0]\n",
      "[5.9 3.  4.2 1.5]\t1\t[1]\n",
      "[4.7 3.2 1.3 0.2]\t0\t[0]\n",
      "[5.7 3.  4.2 1.2]\t1\t[1]\n",
      "[5.5 2.6 4.4 1.2]\t1\t[1]\n",
      "[6.8 2.8 4.8 1.4]\t1\t[1]\n",
      "[7.7 3.8 6.7 2.2]\t2\t[2]\n",
      "[6.6 2.9 4.6 1.3]\t1\t[1]\n",
      "[6.2 2.9 4.3 1.3]\t1\t[1]\n",
      "[7.2 3.  5.8 1.6]\t2\t[2]\n",
      "[5.8 2.8 5.1 2.4]\t2\t[2]\n",
      "[6.3 2.5 5.  1.9]\t2\t[2]\n",
      "[4.6 3.2 1.4 0.2]\t0\t[0]\n",
      "[6.7 3.3 5.7 2.1]\t2\t[2]\n",
      "[6.9 3.2 5.7 2.3]\t2\t[2]\n",
      "[7.7 2.6 6.9 2.3]\t2\t[2]\n",
      "[6.9 3.1 5.1 2.3]\t2\t[2]\n",
      "[5.  3.4 1.6 0.4]\t0\t[0]\n",
      "[5.  3.5 1.6 0.6]\t0\t[0]\n",
      "[5.2 2.7 3.9 1.4]\t1\t[1]\n",
      "[4.5 2.3 1.3 0.3]\t0\t[0]\n",
      "[6.3 3.3 4.7 1.6]\t1\t[1]\n"
     ]
    }
   ],
   "source": [
    "for i in range(len(x_test)):\n",
    "    predict = obj_ANN.forward_propagate(x_test[i])\n",
    "    predicted_class = np.argmax(predict)\n",
    "    actual_class = y_test[i]\n",
    "    print(f\"{x_test[i]}\\t{predicted_class}\\t{actual_class}\")"
   ]
  },
  {
   "cell_type": "code",
   "execution_count": 96,
   "id": "2a9549b9-87bd-42b4-b95e-515127428509",
   "metadata": {},
   "outputs": [
    {
     "name": "stdout",
     "output_type": "stream",
     "text": [
      "97.77777777777777\n"
     ]
    }
   ],
   "source": [
    "count = 0\n",
    "total = len(x_test)\n",
    "for i in range(total):\n",
    "    predicted = obj_ANN.forward_propagate(x_test[i])\n",
    "    predicted_class = np.argmax(predicted)\n",
    "    if predicted_class == y_test[i]:\n",
    "        count += 1\n",
    "accuracy = (count/total) * 100\n",
    "print(accuracy)"
   ]
  },
  {
   "cell_type": "code",
   "execution_count": null,
   "id": "c7b22327-edf3-46c0-93e8-488d07687896",
   "metadata": {},
   "outputs": [],
   "source": []
  },
  {
   "cell_type": "code",
   "execution_count": null,
   "id": "8b691c12-1448-474e-b185-b89b97016c25",
   "metadata": {},
   "outputs": [],
   "source": []
  },
  {
   "cell_type": "code",
   "execution_count": null,
   "id": "140aa072-2476-414c-b5ed-3373414945bf",
   "metadata": {},
   "outputs": [],
   "source": []
  },
  {
   "cell_type": "code",
   "execution_count": null,
   "id": "b7203e44-1489-4eaa-b714-db2cfacc139b",
   "metadata": {},
   "outputs": [],
   "source": []
  },
  {
   "cell_type": "code",
   "execution_count": null,
   "id": "e3f8f30c-3264-4a24-b9f4-4ab545bcbbb3",
   "metadata": {},
   "outputs": [],
   "source": []
  },
  {
   "cell_type": "code",
   "execution_count": null,
   "id": "96576ee1-0496-4c4d-ae85-5a53781c8532",
   "metadata": {},
   "outputs": [],
   "source": []
  },
  {
   "cell_type": "code",
   "execution_count": null,
   "id": "8e1f23ef-75a8-4011-8484-a99bda95f42d",
   "metadata": {},
   "outputs": [],
   "source": []
  },
  {
   "cell_type": "code",
   "execution_count": null,
   "id": "5af23132-9533-484c-8747-23c84bf474ef",
   "metadata": {},
   "outputs": [],
   "source": []
  }
 ],
 "metadata": {
  "kernelspec": {
   "display_name": "Python 3 (ipykernel)",
   "language": "python",
   "name": "python3"
  },
  "language_info": {
   "codemirror_mode": {
    "name": "ipython",
    "version": 3
   },
   "file_extension": ".py",
   "mimetype": "text/x-python",
   "name": "python",
   "nbconvert_exporter": "python",
   "pygments_lexer": "ipython3",
   "version": "3.10.13"
  }
 },
 "nbformat": 4,
 "nbformat_minor": 5
}
