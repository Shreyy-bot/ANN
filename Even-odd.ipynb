{
 "cells": [
  {
   "cell_type": "markdown",
   "id": "4cf5a46e-4c3b-4279-9384-24f8559677bc",
   "metadata": {},
   "source": [
    "***Practical 3***"
   ]
  },
  {
   "cell_type": "markdown",
   "id": "24e9dcdc-d5c5-46f3-8e5e-4fae606d029a",
   "metadata": {},
   "source": [
    "***Even-Odd Recognization with ASCII code***"
   ]
  },
  {
   "cell_type": "code",
   "execution_count": 18,
   "id": "413ca681-f0f2-4dc0-ad5f-b40c692099b0",
   "metadata": {},
   "outputs": [],
   "source": [
    "import numpy as np"
   ]
  },
  {
   "cell_type": "code",
   "execution_count": 19,
   "id": "6bec0a43-1623-4b47-8a22-cf53778f4aa8",
   "metadata": {},
   "outputs": [],
   "source": [
    "weights = np.random.rand(8)\n",
    "bias = 0.1\n",
    "threshold = 1.1\n",
    "epochs = 100\n",
    "lr = 0.1"
   ]
  },
  {
   "cell_type": "code",
   "execution_count": 20,
   "id": "eec26ab1-f95b-4460-a103-6ce3eadbb8dd",
   "metadata": {},
   "outputs": [],
   "source": [
    "def conv(x):\n",
    "    ascii = ord(str(x))\n",
    "    binary = np.binary_repr(ascii, width=8)\n",
    "    x = np.zeros(8, dtype=int)\n",
    "    for i in range(8):\n",
    "        x[i] = int(binary[i])\n",
    "    return x"
   ]
  },
  {
   "cell_type": "code",
   "execution_count": 21,
   "id": "cc376d09-adaa-452a-b70b-08066efa24e6",
   "metadata": {},
   "outputs": [],
   "source": [
    "def step_funct(sum):\n",
    "    if sum > threshold:\n",
    "        return 1\n",
    "    else:\n",
    "        return 0"
   ]
  },
  {
   "cell_type": "code",
   "execution_count": 22,
   "id": "c4d3f226-84d4-42f1-8aaa-cf16b79daa86",
   "metadata": {},
   "outputs": [],
   "source": [
    "def perceptron(num):\n",
    "    sum = np.dot(num, weights)+bias\n",
    "    return step_funct(sum)"
   ]
  },
  {
   "cell_type": "code",
   "execution_count": 23,
   "id": "fef181df-6e5f-47de-bd7c-b5054da9963c",
   "metadata": {},
   "outputs": [],
   "source": [
    "def train(num, target):\n",
    "    global weights, bias, lr\n",
    "    r = conv(num)\n",
    "    out = perceptron(r)\n",
    "    error = target - out\n",
    "    weights += lr*error*r\n",
    "    bias += lr*error"
   ]
  },
  {
   "cell_type": "code",
   "execution_count": 24,
   "id": "5f6d632a-1b32-4443-b248-55700361a53a",
   "metadata": {},
   "outputs": [],
   "source": [
    "training = [(4, 0), (5, 1), (6, 0), (7, 1), (8, 0), (9, 1)]"
   ]
  },
  {
   "cell_type": "code",
   "execution_count": 25,
   "id": "06e13739-f821-4ccd-b4ff-49b5cb26cd5b",
   "metadata": {},
   "outputs": [
    {
     "name": "stdout",
     "output_type": "stream",
     "text": [
      "Training not converged.\n",
      "Training converged in 2 epochs.\n"
     ]
    }
   ],
   "source": [
    "for epoch in range(epochs):\n",
    "    error = 0\n",
    "    for num, target in training:\n",
    "        output = perceptron(conv(num))\n",
    "        if output != target:\n",
    "            train(num, target)\n",
    "            error += 1\n",
    "    if error == 0:\n",
    "        print(f\"Training converged in {epoch + 1} epochs.\")\n",
    "        break\n",
    "    else:\n",
    "        print(\"Training not converged.\")"
   ]
  },
  {
   "cell_type": "code",
   "execution_count": 26,
   "id": "9d619c4f-9149-4482-b9b6-7cf674ee3753",
   "metadata": {},
   "outputs": [
    {
     "name": "stdin",
     "output_type": "stream",
     "text": [
      "Enter the number:  4\n"
     ]
    },
    {
     "name": "stdout",
     "output_type": "stream",
     "text": [
      "The entered number is: 4\n",
      "The ASCII value of 4 is: 52\n",
      "The binary form of ASCII value of 4 is: [0 0 1 1 0 1 0 0]\n",
      "The number is even.\n"
     ]
    }
   ],
   "source": [
    "number = int(input(\"Enter the number: \"))\n",
    "print(f\"The entered number is: {number}\")\n",
    "print(f\"The ASCII value of {number} is: {ord(str(number))}\")\n",
    "print(f\"The binary form of ASCII value of {number} is: {conv(number)}\")\n",
    "op = perceptron(conv(number))\n",
    "if op ==1:\n",
    "    print(\"The number is odd.\")\n",
    "else:\n",
    "    print(\"The number is even.\")"
   ]
  },
  {
   "cell_type": "code",
   "execution_count": null,
   "id": "d8d2712a-aa98-4696-bff2-db2c370a2110",
   "metadata": {},
   "outputs": [],
   "source": []
  },
  {
   "cell_type": "code",
   "execution_count": null,
   "id": "0843288b-45be-445f-9358-cb78dda019df",
   "metadata": {},
   "outputs": [],
   "source": []
  },
  {
   "cell_type": "code",
   "execution_count": null,
   "id": "71a22950-11e4-4e9e-9f2d-ccc313911b60",
   "metadata": {},
   "outputs": [],
   "source": []
  },
  {
   "cell_type": "code",
   "execution_count": null,
   "id": "684a8393-f9d5-4883-8b18-b5c0c76ff2a8",
   "metadata": {},
   "outputs": [],
   "source": []
  },
  {
   "cell_type": "code",
   "execution_count": null,
   "id": "ce9be973-00e7-441d-83aa-2bb3bfd1bd3d",
   "metadata": {},
   "outputs": [],
   "source": []
  },
  {
   "cell_type": "code",
   "execution_count": null,
   "id": "61bdb322-b5fb-48d6-8f02-2a433907835b",
   "metadata": {},
   "outputs": [],
   "source": []
  },
  {
   "cell_type": "code",
   "execution_count": null,
   "id": "43dc79da-6cee-4f2a-8644-4023fe979db9",
   "metadata": {},
   "outputs": [],
   "source": []
  },
  {
   "cell_type": "code",
   "execution_count": null,
   "id": "4e9eb99c-c4f5-4400-aa11-e6ada189a260",
   "metadata": {},
   "outputs": [],
   "source": []
  }
 ],
 "metadata": {
  "kernelspec": {
   "display_name": "Python 3 (ipykernel)",
   "language": "python",
   "name": "python3"
  },
  "language_info": {
   "codemirror_mode": {
    "name": "ipython",
    "version": 3
   },
   "file_extension": ".py",
   "mimetype": "text/x-python",
   "name": "python",
   "nbconvert_exporter": "python",
   "pygments_lexer": "ipython3",
   "version": "3.10.13"
  }
 },
 "nbformat": 4,
 "nbformat_minor": 5
}
