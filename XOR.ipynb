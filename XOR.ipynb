{
 "cells": [
  {
   "cell_type": "code",
   "execution_count": 1,
   "id": "e5321ea6-6fcd-477e-861f-05b99d2864e3",
   "metadata": {},
   "outputs": [],
   "source": [
    "import numpy as np"
   ]
  },
  {
   "cell_type": "code",
   "execution_count": 26,
   "id": "292a4ba4-2ce1-4245-8e2b-1487328c64e0",
   "metadata": {},
   "outputs": [],
   "source": [
    "class ANN:\n",
    "    def __init__(self, input_size, hidden_size, output_size, lr):\n",
    "        self.input_size = input_size\n",
    "        self.hidden_size = hidden_size\n",
    "        self.output_size = output_size\n",
    "        self.lr = lr\n",
    "        \n",
    "        #initialize the weights        \n",
    "        self.Wij = np.random.uniform(-0.5, 0.5, (self.input_size, self.hidden_size))\n",
    "        self.Vjk = np.random.uniform(-0.5, 0.5, (self.hidden_size, self.output_size))\n",
    "\n",
    "        #initialize the bias\n",
    "        self.bias_j = np.random.uniform(-0.5, 0.5, (self.hidden_size))\n",
    "        self.bias_k = np.random.uniform(-0.5, 0.5, (self.output_size))\n",
    "\n",
    "    def sigmoid(self, x):\n",
    "        return 1/(1+np.exp(-x))\n",
    "    def sigmoid_derivate(self, x):\n",
    "        return x*(1-x)\n",
    "\n",
    "    def forwar_prop(self, x):\n",
    "        self.hidden_input = np.dot(x, self.Wij) + self.bias_j\n",
    "        self.hidden_output = self.sigmoid(self.hidden_input)\n",
    "\n",
    "        self.out_input = np.dot(self.hidden_output, self.Vjk) + self.bias_k\n",
    "        self.out_output = self.sigmoid(self.out_input)\n",
    "\n",
    "        return self.out_output\n",
    "\n",
    "    def back_prop(self, x, y, output):\n",
    "        error = y - output\n",
    "        delta_out = error * self.sigmoid_derivate(output)\n",
    "\n",
    "        hidden_error = delta_out.dot(self.Vjk.T)\n",
    "        hidden_delta = hidden_error * self.sigmoid_derivate(self.hidden_output)\n",
    "\n",
    "        self.Vjk += self.hidden_output.T.dot(delta_out) + self.lr\n",
    "        self.bias_k += np.sum(delta_out) + self.lr \n",
    "\n",
    "        self.Wij += x.T.dot(hidden_delta) * self.lr\n",
    "        self.bias_j += np.sum(hidden_delta) * self.lr\n",
    "\n",
    "    def train(self, x, y, epochs):\n",
    "        for epoch in range(epochs):\n",
    "            out = self.forwar_prop(x)\n",
    "            self.back_prop(x, y, out)\n",
    "            if epoch%1000 == 0:\n",
    "                print(f\"Epochs {epoch}: Error {np.mean(np.abs(y - out))}\")"
   ]
  },
  {
   "cell_type": "code",
   "execution_count": 27,
   "id": "299c3b5f-d86e-4f3e-833d-70482fcf046e",
   "metadata": {},
   "outputs": [
    {
     "name": "stdout",
     "output_type": "stream",
     "text": [
      "Epochs 0: Error 0.5000916712527458\n",
      "Epochs 1000: Error 0.4939928152230465\n",
      "Epochs 2000: Error 0.4703246500534858\n",
      "Epochs 3000: Error 0.17551642361458175\n",
      "Epochs 4000: Error 0.1593962327351554\n",
      "Epochs 5000: Error 0.15285771896237416\n",
      "Epochs 6000: Error 0.14917029323488062\n",
      "Epochs 7000: Error 0.14675047540425995\n",
      "Epochs 8000: Error 0.14501631430696701\n",
      "Epochs 9000: Error 0.14369971921411595\n",
      "\n",
      "Predictions after training:\n",
      "\n",
      "Input: \n",
      "[x1|x2]\t    Predicted XOR\t Approx output XOR\n",
      "[0 0] \t    0[0.26332042] \t\t[0]\n",
      "[0 1] \t    1[0.97619141] \t\t[1]\n",
      "[1 0] \t    1[0.97644454] \t\t[1]\n",
      "[1 1] \t    0[0.25994988] \t\t[0]\n"
     ]
    }
   ],
   "source": [
    "input_size = 2\n",
    "hidden_size = 5\n",
    "output_size = 1\n",
    "lr = 0.1\n",
    "epochs = 10000\n",
    "\n",
    "\n",
    "x = np.array([[0,0],[0,1],[1,0],[1,1]])\n",
    "y = np.array([[0], [1], [1], [0]])\n",
    "\n",
    "obj_ANN = ANN(input_size, hidden_size, output_size, lr)\n",
    "obj_ANN.train(x, y, epochs)\n",
    "\n",
    "print(\"\\nPredictions after training:\\n\")\n",
    "print(f\"Input: \\n[x1|x2]\\t    Predicted XOR\\t Approx output XOR\")\n",
    "for i in range(len(x)):\n",
    "    res = obj_ANN.forwar_prop(x[i])\n",
    "    if res > 0.5:\n",
    "        r = 1\n",
    "    else:\n",
    "        r = 0\n",
    "    print(f\"{x[i]} \\t    {r}{res} \\t\\t{y[i]}\")"
   ]
  },
  {
   "cell_type": "code",
   "execution_count": null,
   "id": "e4954141-ad28-4d09-8dc7-89c9041ba3f3",
   "metadata": {},
   "outputs": [],
   "source": []
  },
  {
   "cell_type": "code",
   "execution_count": null,
   "id": "51cade23-a126-4ecc-a0b7-b63253b0e14a",
   "metadata": {},
   "outputs": [],
   "source": []
  },
  {
   "cell_type": "code",
   "execution_count": null,
   "id": "5170aee2-e6b4-4eca-a029-a1fca4bee04c",
   "metadata": {},
   "outputs": [],
   "source": []
  },
  {
   "cell_type": "code",
   "execution_count": null,
   "id": "3fb43e4b-aca0-4186-ab86-4b94d4d16aa7",
   "metadata": {},
   "outputs": [],
   "source": []
  },
  {
   "cell_type": "code",
   "execution_count": null,
   "id": "cc9ca2fe-d2f2-43b2-a152-c8fc4e24bd7e",
   "metadata": {},
   "outputs": [],
   "source": []
  },
  {
   "cell_type": "code",
   "execution_count": null,
   "id": "e945024a-8c5b-4b7e-abe7-202a0798e756",
   "metadata": {},
   "outputs": [],
   "source": []
  },
  {
   "cell_type": "code",
   "execution_count": null,
   "id": "e7d326a3-93d8-495d-be4a-84e40a058807",
   "metadata": {},
   "outputs": [],
   "source": []
  },
  {
   "cell_type": "code",
   "execution_count": null,
   "id": "ec1f342f-4ba3-4bb3-86d9-ff5a38e93d59",
   "metadata": {},
   "outputs": [],
   "source": []
  },
  {
   "cell_type": "code",
   "execution_count": null,
   "id": "2bbdd545-3dae-4630-98e2-cb4527e50502",
   "metadata": {},
   "outputs": [],
   "source": []
  },
  {
   "cell_type": "code",
   "execution_count": null,
   "id": "c24a2d5b-4333-4c63-a506-6da4dc1e3593",
   "metadata": {},
   "outputs": [],
   "source": []
  },
  {
   "cell_type": "code",
   "execution_count": null,
   "id": "f0f4b9e7-454f-491e-b310-ca310871c438",
   "metadata": {},
   "outputs": [],
   "source": []
  },
  {
   "cell_type": "code",
   "execution_count": null,
   "id": "7992d1b9-1ca4-4b22-abab-225251af2ea0",
   "metadata": {},
   "outputs": [],
   "source": []
  },
  {
   "cell_type": "code",
   "execution_count": null,
   "id": "c6d1e123-cfa6-41c8-865b-2b4abe46a0c1",
   "metadata": {},
   "outputs": [],
   "source": []
  },
  {
   "cell_type": "code",
   "execution_count": null,
   "id": "f094a7c4-8f9d-4e6a-bef7-9c10a163ea07",
   "metadata": {},
   "outputs": [],
   "source": []
  },
  {
   "cell_type": "code",
   "execution_count": null,
   "id": "4d83a3bc-7994-4884-8326-afbb3629e222",
   "metadata": {},
   "outputs": [],
   "source": []
  },
  {
   "cell_type": "code",
   "execution_count": null,
   "id": "0653ff1e-2897-43d8-b34e-29318a5653fd",
   "metadata": {},
   "outputs": [],
   "source": []
  },
  {
   "cell_type": "code",
   "execution_count": null,
   "id": "a8d1f765-a516-4649-877a-56972a6e69ba",
   "metadata": {},
   "outputs": [],
   "source": []
  },
  {
   "cell_type": "code",
   "execution_count": null,
   "id": "a1196081-3ed7-4ffe-ab51-01c78a801a59",
   "metadata": {},
   "outputs": [],
   "source": []
  },
  {
   "cell_type": "code",
   "execution_count": null,
   "id": "7d5def5f-90ab-4824-ac59-266203ca60aa",
   "metadata": {},
   "outputs": [],
   "source": []
  },
  {
   "cell_type": "code",
   "execution_count": null,
   "id": "d6c56dbd-fde5-4178-9914-8dad92e935c2",
   "metadata": {},
   "outputs": [],
   "source": []
  }
 ],
 "metadata": {
  "kernelspec": {
   "display_name": "Python 3 (ipykernel)",
   "language": "python",
   "name": "python3"
  },
  "language_info": {
   "codemirror_mode": {
    "name": "ipython",
    "version": 3
   },
   "file_extension": ".py",
   "mimetype": "text/x-python",
   "name": "python",
   "nbconvert_exporter": "python",
   "pygments_lexer": "ipython3",
   "version": "3.10.13"
  }
 },
 "nbformat": 4,
 "nbformat_minor": 5
}
